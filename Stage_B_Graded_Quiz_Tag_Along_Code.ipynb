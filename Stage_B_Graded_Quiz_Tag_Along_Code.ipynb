{
  "nbformat": 4,
  "nbformat_minor": 0,
  "metadata": {
    "colab": {
      "provenance": [],
      "authorship_tag": "ABX9TyO8J36S6rCWoLRkqXYcCn2N",
      "include_colab_link": true
    },
    "kernelspec": {
      "name": "python3",
      "display_name": "Python 3"
    },
    "language_info": {
      "name": "python"
    }
  },
  "cells": [
    {
      "cell_type": "markdown",
      "metadata": {
        "id": "view-in-github",
        "colab_type": "text"
      },
      "source": [
        "<a href=\"https://colab.research.google.com/github/a-tayo/Hamoye-Internship-Spring-23/blob/main/Stage_B_Graded_Quiz_Tag_Along_Code.ipynb\" target=\"_parent\"><img src=\"https://colab.research.google.com/assets/colab-badge.svg\" alt=\"Open In Colab\"/></a>"
      ]
    },
    {
      "cell_type": "code",
      "execution_count": 78,
      "metadata": {
        "id": "X7PRqevFeHHP"
      },
      "outputs": [],
      "source": [
        "# imports\n",
        "import pandas as pd\n",
        "import numpy as np"
      ]
    },
    {
      "cell_type": "code",
      "source": [
        "# load and display data\n",
        "!gdown 1Eru_UHVc3WLHVveC9Q8K9QUxlzYeHt18\n",
        "quiz_df = pd.read_csv('energydata_complete.csv')"
      ],
      "metadata": {
        "colab": {
          "base_uri": "https://localhost:8080/"
        },
        "id": "hxOADoane0dN",
        "outputId": "41007fa6-dba8-4ca6-e5d0-53a52a04dc6d"
      },
      "execution_count": 79,
      "outputs": [
        {
          "output_type": "stream",
          "name": "stdout",
          "text": [
            "Downloading...\n",
            "From: https://drive.google.com/uc?id=1Eru_UHVc3WLHVveC9Q8K9QUxlzYeHt18\n",
            "To: /content/energydata_complete.csv\n",
            "\r  0% 0.00/12.0M [00:00<?, ?B/s]\r100% 12.0M/12.0M [00:00<00:00, 174MB/s]\n"
          ]
        }
      ]
    },
    {
      "cell_type": "code",
      "source": [
        "quiz_df.info()"
      ],
      "metadata": {
        "colab": {
          "base_uri": "https://localhost:8080/"
        },
        "id": "PUBkpwL1fDVb",
        "outputId": "c0aec25f-8252-4a3d-8878-a89fb1db5762"
      },
      "execution_count": 80,
      "outputs": [
        {
          "output_type": "stream",
          "name": "stdout",
          "text": [
            "<class 'pandas.core.frame.DataFrame'>\n",
            "RangeIndex: 19735 entries, 0 to 19734\n",
            "Data columns (total 29 columns):\n",
            " #   Column       Non-Null Count  Dtype  \n",
            "---  ------       --------------  -----  \n",
            " 0   date         19735 non-null  object \n",
            " 1   Appliances   19735 non-null  int64  \n",
            " 2   lights       19735 non-null  int64  \n",
            " 3   T1           19735 non-null  float64\n",
            " 4   RH_1         19735 non-null  float64\n",
            " 5   T2           19735 non-null  float64\n",
            " 6   RH_2         19735 non-null  float64\n",
            " 7   T3           19735 non-null  float64\n",
            " 8   RH_3         19735 non-null  float64\n",
            " 9   T4           19735 non-null  float64\n",
            " 10  RH_4         19735 non-null  float64\n",
            " 11  T5           19735 non-null  float64\n",
            " 12  RH_5         19735 non-null  float64\n",
            " 13  T6           19735 non-null  float64\n",
            " 14  RH_6         19735 non-null  float64\n",
            " 15  T7           19735 non-null  float64\n",
            " 16  RH_7         19735 non-null  float64\n",
            " 17  T8           19735 non-null  float64\n",
            " 18  RH_8         19735 non-null  float64\n",
            " 19  T9           19735 non-null  float64\n",
            " 20  RH_9         19735 non-null  float64\n",
            " 21  T_out        19735 non-null  float64\n",
            " 22  Press_mm_hg  19735 non-null  float64\n",
            " 23  RH_out       19735 non-null  float64\n",
            " 24  Windspeed    19735 non-null  float64\n",
            " 25  Visibility   19735 non-null  float64\n",
            " 26  Tdewpoint    19735 non-null  float64\n",
            " 27  rv1          19735 non-null  float64\n",
            " 28  rv2          19735 non-null  float64\n",
            "dtypes: float64(26), int64(2), object(1)\n",
            "memory usage: 4.4+ MB\n"
          ]
        }
      ]
    },
    {
      "cell_type": "code",
      "source": [
        "# Quetion 12\n",
        "from sklearn.linear_model import LinearRegression\n",
        "from sklearn.metrics import r2_score\n",
        "\n",
        "lr=LinearRegression()\n",
        "lr.fit(quiz_df[['T2']], quiz_df.T6)\n",
        "r2_score(quiz_df[['T6']], lr.predict(quiz_df[['T2']]))"
      ],
      "metadata": {
        "colab": {
          "base_uri": "https://localhost:8080/"
        },
        "id": "xUGeunjBhe_d",
        "outputId": "d954904b-15e0-448c-b976-b72963ff9290"
      },
      "execution_count": 81,
      "outputs": [
        {
          "output_type": "execute_result",
          "data": {
            "text/plain": [
              "0.6418990830855493"
            ]
          },
          "metadata": {},
          "execution_count": 81
        }
      ]
    },
    {
      "cell_type": "code",
      "source": [
        "# Question 13 to 16\n",
        "from sklearn.preprocessing import MinMaxScaler\n",
        "from sklearn.model_selection import train_test_split\n",
        "from sklearn.metrics import mean_absolute_error, r2_score, mean_squared_error\n",
        "\n",
        "quiz_df_q13 = quiz_df.drop(['date', 'lights'], axis=1)\n",
        "\n",
        "# scale the data\n",
        "scaler = MinMaxScaler()\n",
        "quiz_ser_scaled = scaler.fit_transform(quiz_df_q13)\n",
        "quiz_df_q13_scaled = pd.DataFrame(quiz_ser_scaled, columns=quiz_df_q13.columns)\n",
        "\n",
        "x_data = quiz_df_q13_scaled.drop(\"Appliances\", axis=1)\n",
        "y_data = quiz_df_q13_scaled[\"Appliances\"]\n",
        "\n",
        "# split the data\n",
        "X_train, X_test, y_train, y_test = train_test_split(x_data, y_data, test_size=0.3, random_state=42)\n",
        "\n",
        "# build the model\n",
        "lr2 = LinearRegression()\n",
        "lr2.fit(X_train, y_train)\n",
        "\n",
        "# make predictions\n",
        "y_pred = lr2.predict(X_test)\n",
        "\n",
        "# evaluate the model\n",
        "print('Mean Absolute Error: ',mean_absolute_error(y_test, y_pred).round(2))\n",
        "print('Mean Squared Error: ',mean_squared_error(y_test, y_pred).round(2))\n",
        "print('Root Mean Squared Error: ',np.sqrt(mean_squared_error(y_test, y_pred)).round(3))\n",
        "print('Coefficient of Determination: ',r2_score(y_test, y_pred).round(2))\n",
        "print('Residual sum of squares: ',np.sum(np.square(y_test - y_pred)).round(2))"
      ],
      "metadata": {
        "colab": {
          "base_uri": "https://localhost:8080/"
        },
        "id": "CXRTj_rwlgXW",
        "outputId": "f36f437e-2fd4-4ac5-9227-85e2415cbdfe"
      },
      "execution_count": 82,
      "outputs": [
        {
          "output_type": "stream",
          "name": "stdout",
          "text": [
            "Mean Absolute Error:  0.05\n",
            "Mean Squared Error:  0.01\n",
            "Root Mean Squared Error:  0.088\n",
            "Coefficient of Determination:  0.15\n",
            "Residual sum of squares:  45.35\n"
          ]
        }
      ]
    },
    {
      "cell_type": "code",
      "source": [
        "# Question 17\n",
        "weights_df=pd.DataFrame(lr2.coef_, index=[x_data.columns]).reset_index()\n",
        "weights_df=weights_df.rename(columns={\"level_0\": \"features\", 0: \"weights\"}).sort_values(by=\"weights\").reset_index(drop=True)\n",
        "print(f\"Minimum: {weights_df.loc[0, 'features']}\\nMaximum: {weights_df.loc[weights_df.index.max(), 'features']}\")"
      ],
      "metadata": {
        "colab": {
          "base_uri": "https://localhost:8080/"
        },
        "id": "gYHq8Q34pApY",
        "outputId": "d9da903a-8e1b-4656-9d28-cb1fd25bec88"
      },
      "execution_count": 83,
      "outputs": [
        {
          "output_type": "stream",
          "name": "stdout",
          "text": [
            "Minimum: RH_2\n",
            "Maximum: RH_1\n"
          ]
        }
      ]
    },
    {
      "cell_type": "code",
      "source": [
        "# Question 18\n",
        "from sklearn.linear_model import Ridge\n",
        "\n",
        "ridge = Ridge(alpha=0.4)\n",
        "ridge.fit(X_train, y_train)\n",
        "\n",
        "y_pred = ridge.predict(X_test)\n",
        "print('Root Mean Squared Error: ',np.sqrt(mean_squared_error(y_test, y_pred)).round(3))"
      ],
      "metadata": {
        "colab": {
          "base_uri": "https://localhost:8080/"
        },
        "id": "5EPEgfJy2eZK",
        "outputId": "eaf727b1-c7af-42dc-dbb8-29db22c60449"
      },
      "execution_count": 84,
      "outputs": [
        {
          "output_type": "stream",
          "name": "stdout",
          "text": [
            "Root Mean Squared Error:  0.088\n"
          ]
        }
      ]
    },
    {
      "cell_type": "code",
      "source": [
        "# Question 19\n",
        "weights_df=pd.DataFrame(lasso.coef_, index=[x_data.columns]).reset_index()\n",
        "weights_df=weights_df.rename(columns={\"level_0\": \"features\", 0: \"weights\"}).sort_values(by=\"weights\").reset_index(drop=True)\n",
        "print(\"Number of features with non-zero weights: \", (weights_df.weights.values != 0).sum())"
      ],
      "metadata": {
        "colab": {
          "base_uri": "https://localhost:8080/"
        },
        "id": "OEHk8vxr4vIm",
        "outputId": "2f2c03e3-5293-45f0-ea96-039bf607f139"
      },
      "execution_count": 85,
      "outputs": [
        {
          "output_type": "stream",
          "name": "stdout",
          "text": [
            "Number of features with non-zero weights:  4\n"
          ]
        }
      ]
    },
    {
      "cell_type": "code",
      "source": [
        "# Question 20\n",
        "from sklearn.linear_model import Lasso\n",
        "\n",
        "lasso = Lasso(alpha=0.001)\n",
        "lasso.fit(X_train, y_train)\n",
        "\n",
        "y_pred = lasso.predict(X_test)\n",
        "print('Root Mean Squared Error: ',np.sqrt(mean_squared_error(y_test, y_pred)).round(3))"
      ],
      "metadata": {
        "colab": {
          "base_uri": "https://localhost:8080/"
        },
        "id": "St75h6uG31bP",
        "outputId": "6f7985cf-09df-4e98-b632-c116335d0a9f"
      },
      "execution_count": 86,
      "outputs": [
        {
          "output_type": "stream",
          "name": "stdout",
          "text": [
            "Root Mean Squared Error:  0.094\n"
          ]
        }
      ]
    }
  ]
}